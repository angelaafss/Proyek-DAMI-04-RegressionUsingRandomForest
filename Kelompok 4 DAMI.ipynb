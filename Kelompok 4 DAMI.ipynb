{
 "cells": [
  {
   "cell_type": "markdown",
   "id": "38e394fe",
   "metadata": {},
   "source": [
    "# PROYEK MATAKULIAH DATA MINING\n",
    "## Regression Problem from Case and Cost Prediction using Random Forest\n",
    "### KELOMPOK 4\n",
    "### 12S18020 - Dita L. Sastri Sihombing\n",
    "### 12S18029 - Estomihi Rascana Sirait\n",
    "### 12S18061 - Angela Friscilia Simamora"
   ]
  },
  {
   "cell_type": "code",
   "execution_count": 1,
   "id": "3a6b4e78",
   "metadata": {},
   "outputs": [],
   "source": [
    "#Importing necessary Libraries\n",
    "import numpy as np\n",
    "import pandas as pd"
   ]
  },
  {
   "cell_type": "code",
   "execution_count": 2,
   "id": "332d2d25",
   "metadata": {},
   "outputs": [],
   "source": [
    "casecostprediction = pd.read_csv('D:/Materi Kuliah/Jupyter Notebook/Proyek 4 DAMI/Data/case_cost_prediction_train.csv')"
   ]
  },
  {
   "cell_type": "code",
   "execution_count": 3,
   "id": "3fa5f3b6",
   "metadata": {},
   "outputs": [
    {
     "data": {
      "text/html": [
       "<div>\n",
       "<style scoped>\n",
       "    .dataframe tbody tr th:only-of-type {\n",
       "        vertical-align: middle;\n",
       "    }\n",
       "\n",
       "    .dataframe tbody tr th {\n",
       "        vertical-align: top;\n",
       "    }\n",
       "\n",
       "    .dataframe thead th {\n",
       "        text-align: right;\n",
       "    }\n",
       "</style>\n",
       "<table border=\"1\" class=\"dataframe\">\n",
       "  <thead>\n",
       "    <tr style=\"text-align: right;\">\n",
       "      <th></th>\n",
       "      <th>row_id</th>\n",
       "      <th>tglpelayanan</th>\n",
       "      <th>kddati2</th>\n",
       "      <th>tkp</th>\n",
       "      <th>peserta</th>\n",
       "      <th>a</th>\n",
       "      <th>b</th>\n",
       "      <th>c</th>\n",
       "      <th>cb</th>\n",
       "      <th>d</th>\n",
       "      <th>...</th>\n",
       "      <th>kp</th>\n",
       "      <th>kt</th>\n",
       "      <th>ku</th>\n",
       "      <th>s</th>\n",
       "      <th>sa</th>\n",
       "      <th>sb</th>\n",
       "      <th>sc</th>\n",
       "      <th>sd</th>\n",
       "      <th>case</th>\n",
       "      <th>unit_cost</th>\n",
       "    </tr>\n",
       "  </thead>\n",
       "  <tbody>\n",
       "    <tr>\n",
       "      <th>0</th>\n",
       "      <td>1</td>\n",
       "      <td>2014-04-01 00:00:00</td>\n",
       "      <td>332</td>\n",
       "      <td>40</td>\n",
       "      <td>179530</td>\n",
       "      <td>0</td>\n",
       "      <td>0</td>\n",
       "      <td>1</td>\n",
       "      <td>0</td>\n",
       "      <td>1</td>\n",
       "      <td>...</td>\n",
       "      <td>0</td>\n",
       "      <td>0</td>\n",
       "      <td>0</td>\n",
       "      <td>0</td>\n",
       "      <td>0</td>\n",
       "      <td>0</td>\n",
       "      <td>0</td>\n",
       "      <td>0</td>\n",
       "      <td>266</td>\n",
       "      <td>3.597440e+06</td>\n",
       "    </tr>\n",
       "    <tr>\n",
       "      <th>1</th>\n",
       "      <td>2</td>\n",
       "      <td>2016-11-01 00:00:00</td>\n",
       "      <td>54</td>\n",
       "      <td>40</td>\n",
       "      <td>104782</td>\n",
       "      <td>0</td>\n",
       "      <td>1</td>\n",
       "      <td>0</td>\n",
       "      <td>0</td>\n",
       "      <td>0</td>\n",
       "      <td>...</td>\n",
       "      <td>0</td>\n",
       "      <td>0</td>\n",
       "      <td>1</td>\n",
       "      <td>0</td>\n",
       "      <td>0</td>\n",
       "      <td>0</td>\n",
       "      <td>1</td>\n",
       "      <td>1</td>\n",
       "      <td>2453</td>\n",
       "      <td>4.951008e+06</td>\n",
       "    </tr>\n",
       "    <tr>\n",
       "      <th>2</th>\n",
       "      <td>3</td>\n",
       "      <td>2016-05-01 00:00:00</td>\n",
       "      <td>323</td>\n",
       "      <td>30</td>\n",
       "      <td>280645</td>\n",
       "      <td>0</td>\n",
       "      <td>0</td>\n",
       "      <td>1</td>\n",
       "      <td>0</td>\n",
       "      <td>0</td>\n",
       "      <td>...</td>\n",
       "      <td>0</td>\n",
       "      <td>0</td>\n",
       "      <td>0</td>\n",
       "      <td>0</td>\n",
       "      <td>0</td>\n",
       "      <td>0</td>\n",
       "      <td>0</td>\n",
       "      <td>0</td>\n",
       "      <td>1690</td>\n",
       "      <td>1.984208e+05</td>\n",
       "    </tr>\n",
       "    <tr>\n",
       "      <th>3</th>\n",
       "      <td>4</td>\n",
       "      <td>2018-11-01 00:00:00</td>\n",
       "      <td>318</td>\n",
       "      <td>40</td>\n",
       "      <td>178685</td>\n",
       "      <td>0</td>\n",
       "      <td>1</td>\n",
       "      <td>0</td>\n",
       "      <td>0</td>\n",
       "      <td>0</td>\n",
       "      <td>...</td>\n",
       "      <td>0</td>\n",
       "      <td>0</td>\n",
       "      <td>0</td>\n",
       "      <td>0</td>\n",
       "      <td>0</td>\n",
       "      <td>0</td>\n",
       "      <td>0</td>\n",
       "      <td>3</td>\n",
       "      <td>1321</td>\n",
       "      <td>4.008756e+06</td>\n",
       "    </tr>\n",
       "    <tr>\n",
       "      <th>4</th>\n",
       "      <td>5</td>\n",
       "      <td>2019-10-01 00:00:00</td>\n",
       "      <td>150</td>\n",
       "      <td>30</td>\n",
       "      <td>1199321</td>\n",
       "      <td>1</td>\n",
       "      <td>0</td>\n",
       "      <td>1</td>\n",
       "      <td>0</td>\n",
       "      <td>0</td>\n",
       "      <td>...</td>\n",
       "      <td>1</td>\n",
       "      <td>0</td>\n",
       "      <td>0</td>\n",
       "      <td>0</td>\n",
       "      <td>0</td>\n",
       "      <td>1</td>\n",
       "      <td>0</td>\n",
       "      <td>5</td>\n",
       "      <td>73056</td>\n",
       "      <td>3.072272e+05</td>\n",
       "    </tr>\n",
       "    <tr>\n",
       "      <th>...</th>\n",
       "      <td>...</td>\n",
       "      <td>...</td>\n",
       "      <td>...</td>\n",
       "      <td>...</td>\n",
       "      <td>...</td>\n",
       "      <td>...</td>\n",
       "      <td>...</td>\n",
       "      <td>...</td>\n",
       "      <td>...</td>\n",
       "      <td>...</td>\n",
       "      <td>...</td>\n",
       "      <td>...</td>\n",
       "      <td>...</td>\n",
       "      <td>...</td>\n",
       "      <td>...</td>\n",
       "      <td>...</td>\n",
       "      <td>...</td>\n",
       "      <td>...</td>\n",
       "      <td>...</td>\n",
       "      <td>...</td>\n",
       "      <td>...</td>\n",
       "    </tr>\n",
       "    <tr>\n",
       "      <th>57966</th>\n",
       "      <td>57967</td>\n",
       "      <td>2019-03-01 00:00:00</td>\n",
       "      <td>241</td>\n",
       "      <td>40</td>\n",
       "      <td>157213</td>\n",
       "      <td>0</td>\n",
       "      <td>0</td>\n",
       "      <td>1</td>\n",
       "      <td>0</td>\n",
       "      <td>0</td>\n",
       "      <td>...</td>\n",
       "      <td>0</td>\n",
       "      <td>0</td>\n",
       "      <td>0</td>\n",
       "      <td>0</td>\n",
       "      <td>0</td>\n",
       "      <td>0</td>\n",
       "      <td>0</td>\n",
       "      <td>0</td>\n",
       "      <td>410</td>\n",
       "      <td>3.443332e+06</td>\n",
       "    </tr>\n",
       "    <tr>\n",
       "      <th>57967</th>\n",
       "      <td>57968</td>\n",
       "      <td>2019-09-01 00:00:00</td>\n",
       "      <td>338</td>\n",
       "      <td>30</td>\n",
       "      <td>402173</td>\n",
       "      <td>0</td>\n",
       "      <td>0</td>\n",
       "      <td>1</td>\n",
       "      <td>0</td>\n",
       "      <td>0</td>\n",
       "      <td>...</td>\n",
       "      <td>0</td>\n",
       "      <td>0</td>\n",
       "      <td>0</td>\n",
       "      <td>0</td>\n",
       "      <td>0</td>\n",
       "      <td>0</td>\n",
       "      <td>0</td>\n",
       "      <td>0</td>\n",
       "      <td>8272</td>\n",
       "      <td>2.128621e+05</td>\n",
       "    </tr>\n",
       "    <tr>\n",
       "      <th>57968</th>\n",
       "      <td>57969</td>\n",
       "      <td>2016-06-01 00:00:00</td>\n",
       "      <td>241</td>\n",
       "      <td>40</td>\n",
       "      <td>99401</td>\n",
       "      <td>0</td>\n",
       "      <td>0</td>\n",
       "      <td>1</td>\n",
       "      <td>0</td>\n",
       "      <td>0</td>\n",
       "      <td>...</td>\n",
       "      <td>0</td>\n",
       "      <td>0</td>\n",
       "      <td>0</td>\n",
       "      <td>0</td>\n",
       "      <td>0</td>\n",
       "      <td>0</td>\n",
       "      <td>0</td>\n",
       "      <td>0</td>\n",
       "      <td>294</td>\n",
       "      <td>3.028611e+06</td>\n",
       "    </tr>\n",
       "    <tr>\n",
       "      <th>57969</th>\n",
       "      <td>57970</td>\n",
       "      <td>2018-01-01 00:00:00</td>\n",
       "      <td>147</td>\n",
       "      <td>40</td>\n",
       "      <td>509495</td>\n",
       "      <td>0</td>\n",
       "      <td>0</td>\n",
       "      <td>1</td>\n",
       "      <td>0</td>\n",
       "      <td>0</td>\n",
       "      <td>...</td>\n",
       "      <td>0</td>\n",
       "      <td>0</td>\n",
       "      <td>0</td>\n",
       "      <td>0</td>\n",
       "      <td>0</td>\n",
       "      <td>0</td>\n",
       "      <td>2</td>\n",
       "      <td>0</td>\n",
       "      <td>1983</td>\n",
       "      <td>3.629365e+06</td>\n",
       "    </tr>\n",
       "    <tr>\n",
       "      <th>57970</th>\n",
       "      <td>57971</td>\n",
       "      <td>2016-09-01 00:00:00</td>\n",
       "      <td>204</td>\n",
       "      <td>30</td>\n",
       "      <td>770169</td>\n",
       "      <td>0</td>\n",
       "      <td>1</td>\n",
       "      <td>1</td>\n",
       "      <td>0</td>\n",
       "      <td>0</td>\n",
       "      <td>...</td>\n",
       "      <td>0</td>\n",
       "      <td>0</td>\n",
       "      <td>0</td>\n",
       "      <td>0</td>\n",
       "      <td>0</td>\n",
       "      <td>1</td>\n",
       "      <td>2</td>\n",
       "      <td>1</td>\n",
       "      <td>16679</td>\n",
       "      <td>2.956852e+05</td>\n",
       "    </tr>\n",
       "  </tbody>\n",
       "</table>\n",
       "<p>57971 rows × 36 columns</p>\n",
       "</div>"
      ],
      "text/plain": [
       "       row_id         tglpelayanan  kddati2  tkp  peserta  a  b  c  cb  d  \\\n",
       "0           1  2014-04-01 00:00:00      332   40   179530  0  0  1   0  1   \n",
       "1           2  2016-11-01 00:00:00       54   40   104782  0  1  0   0  0   \n",
       "2           3  2016-05-01 00:00:00      323   30   280645  0  0  1   0  0   \n",
       "3           4  2018-11-01 00:00:00      318   40   178685  0  1  0   0  0   \n",
       "4           5  2019-10-01 00:00:00      150   30  1199321  1  0  1   0  0   \n",
       "...       ...                  ...      ...  ...      ... .. .. ..  .. ..   \n",
       "57966   57967  2019-03-01 00:00:00      241   40   157213  0  0  1   0  0   \n",
       "57967   57968  2019-09-01 00:00:00      338   30   402173  0  0  1   0  0   \n",
       "57968   57969  2016-06-01 00:00:00      241   40    99401  0  0  1   0  0   \n",
       "57969   57970  2018-01-01 00:00:00      147   40   509495  0  0  1   0  0   \n",
       "57970   57971  2016-09-01 00:00:00      204   30   770169  0  1  1   0  0   \n",
       "\n",
       "       ...  kp  kt  ku  s  sa  sb  sc  sd   case     unit_cost  \n",
       "0      ...   0   0   0  0   0   0   0   0    266  3.597440e+06  \n",
       "1      ...   0   0   1  0   0   0   1   1   2453  4.951008e+06  \n",
       "2      ...   0   0   0  0   0   0   0   0   1690  1.984208e+05  \n",
       "3      ...   0   0   0  0   0   0   0   3   1321  4.008756e+06  \n",
       "4      ...   1   0   0  0   0   1   0   5  73056  3.072272e+05  \n",
       "...    ...  ..  ..  .. ..  ..  ..  ..  ..    ...           ...  \n",
       "57966  ...   0   0   0  0   0   0   0   0    410  3.443332e+06  \n",
       "57967  ...   0   0   0  0   0   0   0   0   8272  2.128621e+05  \n",
       "57968  ...   0   0   0  0   0   0   0   0    294  3.028611e+06  \n",
       "57969  ...   0   0   0  0   0   0   2   0   1983  3.629365e+06  \n",
       "57970  ...   0   0   0  0   0   1   2   1  16679  2.956852e+05  \n",
       "\n",
       "[57971 rows x 36 columns]"
      ]
     },
     "execution_count": 3,
     "metadata": {},
     "output_type": "execute_result"
    }
   ],
   "source": [
    "casecostprediction"
   ]
  },
  {
   "cell_type": "code",
   "execution_count": 4,
   "id": "0808d8e6",
   "metadata": {
    "scrolled": true
   },
   "outputs": [
    {
     "name": "stdout",
     "output_type": "stream",
     "text": [
      "<class 'pandas.core.frame.DataFrame'>\n",
      "RangeIndex: 57971 entries, 0 to 57970\n",
      "Data columns (total 36 columns):\n",
      " #   Column        Non-Null Count  Dtype  \n",
      "---  ------        --------------  -----  \n",
      " 0   row_id        57971 non-null  int64  \n",
      " 1   tglpelayanan  57971 non-null  object \n",
      " 2   kddati2       57971 non-null  int64  \n",
      " 3   tkp           57971 non-null  int64  \n",
      " 4   peserta       57971 non-null  int64  \n",
      " 5   a             57971 non-null  int64  \n",
      " 6   b             57971 non-null  int64  \n",
      " 7   c             57971 non-null  int64  \n",
      " 8   cb            57971 non-null  int64  \n",
      " 9   d             57971 non-null  int64  \n",
      " 10  ds            57971 non-null  int64  \n",
      " 11  gd            57971 non-null  int64  \n",
      " 12  hd            57971 non-null  int64  \n",
      " 13  i1            57971 non-null  int64  \n",
      " 14  i2            57971 non-null  int64  \n",
      " 15  i3            57971 non-null  int64  \n",
      " 16  i4            57971 non-null  int64  \n",
      " 17  kb            57971 non-null  int64  \n",
      " 18  kc            57971 non-null  int64  \n",
      " 19  kg            57971 non-null  int64  \n",
      " 20  ki            57971 non-null  int64  \n",
      " 21  kj            57971 non-null  int64  \n",
      " 22  kk            57971 non-null  int64  \n",
      " 23  kl            57971 non-null  int64  \n",
      " 24  km            57971 non-null  int64  \n",
      " 25  ko            57971 non-null  int64  \n",
      " 26  kp            57971 non-null  int64  \n",
      " 27  kt            57971 non-null  int64  \n",
      " 28  ku            57971 non-null  int64  \n",
      " 29  s             57971 non-null  int64  \n",
      " 30  sa            57971 non-null  int64  \n",
      " 31  sb            57971 non-null  int64  \n",
      " 32  sc            57971 non-null  int64  \n",
      " 33  sd            57971 non-null  int64  \n",
      " 34  case          57971 non-null  int64  \n",
      " 35  unit_cost     57971 non-null  float64\n",
      "dtypes: float64(1), int64(34), object(1)\n",
      "memory usage: 15.9+ MB\n"
     ]
    }
   ],
   "source": [
    "casecostprediction.info()"
   ]
  },
  {
   "cell_type": "markdown",
   "id": "19435d22",
   "metadata": {},
   "source": [
    "### Analisis Data"
   ]
  },
  {
   "cell_type": "code",
   "execution_count": 5,
   "id": "b1e15a20",
   "metadata": {},
   "outputs": [],
   "source": [
    "numerical_vars = ['row_id', 'tglpelayanan', 'kddati2', 'peserta','a', 'b', 'c', 'cb', 'd', 'ds', 'gd', 'hd', 'i1', 'i2', 'i3', 'i4', 'kb', 'kc', 'kg', 'kj', 'kk', 'km', 'ko', 'kp', 'kt', 'ku', 's', 'sa', 'sb', 'sc', 'sd', 'case', 'unit_cost']"
   ]
  },
  {
   "cell_type": "code",
   "execution_count": 6,
   "id": "8156a802",
   "metadata": {},
   "outputs": [
    {
     "data": {
      "text/plain": [
       "(57971, 36)"
      ]
     },
     "execution_count": 6,
     "metadata": {},
     "output_type": "execute_result"
    }
   ],
   "source": [
    "casecostprediction.shape"
   ]
  },
  {
   "cell_type": "markdown",
   "id": "ae4e6f36",
   "metadata": {},
   "source": [
    "### Atribut Utama"
   ]
  },
  {
   "cell_type": "code",
   "execution_count": 7,
   "id": "040935db",
   "metadata": {
    "scrolled": true
   },
   "outputs": [
    {
     "data": {
      "text/plain": [
       "count    57971.000000\n",
       "mean       246.423125\n",
       "std        143.447935\n",
       "min          1.000000\n",
       "25%        125.000000\n",
       "50%        243.000000\n",
       "75%        362.000000\n",
       "max        528.000000\n",
       "Name: kddati2, dtype: float64"
      ]
     },
     "execution_count": 7,
     "metadata": {},
     "output_type": "execute_result"
    }
   ],
   "source": [
    "casecostprediction['kddati2'].describe()"
   ]
  },
  {
   "cell_type": "code",
   "execution_count": 8,
   "id": "745cba2e",
   "metadata": {},
   "outputs": [
    {
     "data": {
      "image/png": "[encoded data removed]",
      "text/plain": [
       "<Figure size 432x288 with 1 Axes>"
      ]
     },
     "metadata": {
      "needs_background": "light"
     },
     "output_type": "display_data"
    }
   ],
   "source": [
    "casecostprediction['kddati2'].hist(edgecolor='black', bins=20);"
   ]
  },
  {
   "cell_type": "code",
   "execution_count": 6,
   "id": "ef62ded4",
   "metadata": {},
   "outputs": [
    {
     "data": {
      "text/plain": [
       "count    5.797100e+04\n",
       "mean     3.562209e+05\n",
       "std      4.120323e+05\n",
       "min      8.000000e+00\n",
       "25%      1.127735e+05\n",
       "50%      1.975800e+05\n",
       "75%      4.386935e+05\n",
       "max      3.328509e+06\n",
       "Name: peserta, dtype: float64"
      ]
     },
     "execution_count": 6,
     "metadata": {},
     "output_type": "execute_result"
    }
   ],
   "source": [
    "casecostprediction['peserta'].describe()"
   ]
  },
  {
   "cell_type": "code",
   "execution_count": 9,
   "id": "1ba5bea8",
   "metadata": {},
   "outputs": [
    {
     "data": {
      "image/png": "[encoded data removed]",
      "text/plain": [
       "<Figure size 432x288 with 1 Axes>"
      ]
     },
     "metadata": {
      "needs_background": "light"
     },
     "output_type": "display_data"
    }
   ],
   "source": [
    "casecostprediction['peserta'].hist(edgecolor='black', bins=20);"
   ]
  },
  {
   "cell_type": "code",
   "execution_count": 10,
   "id": "e2fb2ebc",
   "metadata": {
    "scrolled": false
   },
   "outputs": [
    {
     "data": {
      "text/plain": [
       "count     57971.000000\n",
       "mean       6539.418451\n",
       "std       17607.280021\n",
       "min           1.000000\n",
       "25%         424.000000\n",
       "50%        1359.000000\n",
       "75%        4583.000000\n",
       "max      333441.000000\n",
       "Name: case, dtype: float64"
      ]
     },
     "execution_count": 10,
     "metadata": {},
     "output_type": "execute_result"
    }
   ],
   "source": [
    "casecostprediction['case'].describe()"
   ]
  },
  {
   "cell_type": "code",
   "execution_count": 11,
   "id": "d7882ae6",
   "metadata": {},
   "outputs": [
    {
     "data": {
      "image/png": "[encoded data removed]",
      "text/plain": [
       "<Figure size 432x288 with 1 Axes>"
      ]
     },
     "metadata": {
      "needs_background": "light"
     },
     "output_type": "display_data"
    }
   ],
   "source": [
    "casecostprediction['case'].hist(edgecolor='black', bins=20);"
   ]
  },
  {
   "cell_type": "code",
   "execution_count": 12,
   "id": "5c8e61e3",
   "metadata": {
    "scrolled": true
   },
   "outputs": [
    {
     "data": {
      "text/plain": [
       "count    5.797100e+04\n",
       "mean     1.961092e+06\n",
       "std      1.889367e+06\n",
       "min      1.000000e+05\n",
       "25%      2.336742e+05\n",
       "50%      6.547994e+05\n",
       "75%      3.531702e+06\n",
       "max      2.690550e+07\n",
       "Name: unit_cost, dtype: float64"
      ]
     },
     "execution_count": 12,
     "metadata": {},
     "output_type": "execute_result"
    }
   ],
   "source": [
    "casecostprediction['unit_cost'].describe()"
   ]
  },
  {
   "cell_type": "code",
   "execution_count": 13,
   "id": "a1dc501a",
   "metadata": {},
   "outputs": [
    {
     "data": {
      "image/png": "[encoded data removed]",
      "text/plain": [
       "<Figure size 432x288 with 1 Axes>"
      ]
     },
     "metadata": {
      "needs_background": "light"
     },
     "output_type": "display_data"
    }
   ],
   "source": [
    "casecostprediction['unit_cost'].hist(edgecolor='black', bins=20);"
   ]
  },
  {
   "cell_type": "markdown",
   "id": "8ece285f",
   "metadata": {},
   "source": [
    "### Variabel Numerikal"
   ]
  },
  {
   "cell_type": "code",
   "execution_count": 14,
   "id": "037acb55",
   "metadata": {
    "scrolled": true
   },
   "outputs": [
    {
     "data": {
      "text/html": [
       "<div>\n",
       "<style scoped>\n",
       "    .dataframe tbody tr th:only-of-type {\n",
       "        vertical-align: middle;\n",
       "    }\n",
       "\n",
       "    .dataframe tbody tr th {\n",
       "        vertical-align: top;\n",
       "    }\n",
       "\n",
       "    .dataframe thead th {\n",
       "        text-align: right;\n",
       "    }\n",
       "</style>\n",
       "<table border=\"1\" class=\"dataframe\">\n",
       "  <thead>\n",
       "    <tr style=\"text-align: right;\">\n",
       "      <th></th>\n",
       "      <th>row_id</th>\n",
       "      <th>kddati2</th>\n",
       "      <th>peserta</th>\n",
       "      <th>a</th>\n",
       "      <th>b</th>\n",
       "      <th>c</th>\n",
       "      <th>cb</th>\n",
       "      <th>d</th>\n",
       "      <th>ds</th>\n",
       "      <th>gd</th>\n",
       "      <th>...</th>\n",
       "      <th>kp</th>\n",
       "      <th>kt</th>\n",
       "      <th>ku</th>\n",
       "      <th>s</th>\n",
       "      <th>sa</th>\n",
       "      <th>sb</th>\n",
       "      <th>sc</th>\n",
       "      <th>sd</th>\n",
       "      <th>case</th>\n",
       "      <th>unit_cost</th>\n",
       "    </tr>\n",
       "  </thead>\n",
       "  <tbody>\n",
       "    <tr>\n",
       "      <th>count</th>\n",
       "      <td>57971.000000</td>\n",
       "      <td>57971.000000</td>\n",
       "      <td>5.797100e+04</td>\n",
       "      <td>57971.000000</td>\n",
       "      <td>57971.000000</td>\n",
       "      <td>57971.000000</td>\n",
       "      <td>57971.000000</td>\n",
       "      <td>57971.000000</td>\n",
       "      <td>57971.0</td>\n",
       "      <td>57971.000000</td>\n",
       "      <td>...</td>\n",
       "      <td>57971.000000</td>\n",
       "      <td>57971.000000</td>\n",
       "      <td>57971.000000</td>\n",
       "      <td>57971.000000</td>\n",
       "      <td>57971.000000</td>\n",
       "      <td>57971.000000</td>\n",
       "      <td>57971.000000</td>\n",
       "      <td>57971.000000</td>\n",
       "      <td>57971.000000</td>\n",
       "      <td>5.797100e+04</td>\n",
       "    </tr>\n",
       "    <tr>\n",
       "      <th>mean</th>\n",
       "      <td>28986.000000</td>\n",
       "      <td>246.423125</td>\n",
       "      <td>3.562209e+05</td>\n",
       "      <td>0.041538</td>\n",
       "      <td>0.388574</td>\n",
       "      <td>0.788894</td>\n",
       "      <td>0.000380</td>\n",
       "      <td>0.281710</td>\n",
       "      <td>0.0</td>\n",
       "      <td>0.046109</td>\n",
       "      <td>...</td>\n",
       "      <td>0.039899</td>\n",
       "      <td>0.004330</td>\n",
       "      <td>0.001829</td>\n",
       "      <td>0.004123</td>\n",
       "      <td>0.002018</td>\n",
       "      <td>0.228476</td>\n",
       "      <td>0.953028</td>\n",
       "      <td>0.644943</td>\n",
       "      <td>6539.418451</td>\n",
       "      <td>1.961092e+06</td>\n",
       "    </tr>\n",
       "    <tr>\n",
       "      <th>std</th>\n",
       "      <td>16734.930565</td>\n",
       "      <td>143.447935</td>\n",
       "      <td>4.120323e+05</td>\n",
       "      <td>0.210390</td>\n",
       "      <td>0.660382</td>\n",
       "      <td>0.679786</td>\n",
       "      <td>0.019477</td>\n",
       "      <td>0.595284</td>\n",
       "      <td>0.0</td>\n",
       "      <td>0.327766</td>\n",
       "      <td>...</td>\n",
       "      <td>0.210092</td>\n",
       "      <td>0.065659</td>\n",
       "      <td>0.042722</td>\n",
       "      <td>0.082443</td>\n",
       "      <td>0.044880</td>\n",
       "      <td>0.925357</td>\n",
       "      <td>2.225974</td>\n",
       "      <td>1.234201</td>\n",
       "      <td>17607.280021</td>\n",
       "      <td>1.889367e+06</td>\n",
       "    </tr>\n",
       "    <tr>\n",
       "      <th>min</th>\n",
       "      <td>1.000000</td>\n",
       "      <td>1.000000</td>\n",
       "      <td>8.000000e+00</td>\n",
       "      <td>0.000000</td>\n",
       "      <td>0.000000</td>\n",
       "      <td>0.000000</td>\n",
       "      <td>0.000000</td>\n",
       "      <td>0.000000</td>\n",
       "      <td>0.0</td>\n",
       "      <td>0.000000</td>\n",
       "      <td>...</td>\n",
       "      <td>0.000000</td>\n",
       "      <td>0.000000</td>\n",
       "      <td>0.000000</td>\n",
       "      <td>0.000000</td>\n",
       "      <td>0.000000</td>\n",
       "      <td>0.000000</td>\n",
       "      <td>0.000000</td>\n",
       "      <td>0.000000</td>\n",
       "      <td>1.000000</td>\n",
       "      <td>1.000000e+05</td>\n",
       "    </tr>\n",
       "    <tr>\n",
       "      <th>25%</th>\n",
       "      <td>14493.500000</td>\n",
       "      <td>125.000000</td>\n",
       "      <td>1.127735e+05</td>\n",
       "      <td>0.000000</td>\n",
       "      <td>0.000000</td>\n",
       "      <td>0.000000</td>\n",
       "      <td>0.000000</td>\n",
       "      <td>0.000000</td>\n",
       "      <td>0.0</td>\n",
       "      <td>0.000000</td>\n",
       "      <td>...</td>\n",
       "      <td>0.000000</td>\n",
       "      <td>0.000000</td>\n",
       "      <td>0.000000</td>\n",
       "      <td>0.000000</td>\n",
       "      <td>0.000000</td>\n",
       "      <td>0.000000</td>\n",
       "      <td>0.000000</td>\n",
       "      <td>0.000000</td>\n",
       "      <td>424.000000</td>\n",
       "      <td>2.336742e+05</td>\n",
       "    </tr>\n",
       "    <tr>\n",
       "      <th>50%</th>\n",
       "      <td>28986.000000</td>\n",
       "      <td>243.000000</td>\n",
       "      <td>1.975800e+05</td>\n",
       "      <td>0.000000</td>\n",
       "      <td>0.000000</td>\n",
       "      <td>1.000000</td>\n",
       "      <td>0.000000</td>\n",
       "      <td>0.000000</td>\n",
       "      <td>0.0</td>\n",
       "      <td>0.000000</td>\n",
       "      <td>...</td>\n",
       "      <td>0.000000</td>\n",
       "      <td>0.000000</td>\n",
       "      <td>0.000000</td>\n",
       "      <td>0.000000</td>\n",
       "      <td>0.000000</td>\n",
       "      <td>0.000000</td>\n",
       "      <td>0.000000</td>\n",
       "      <td>0.000000</td>\n",
       "      <td>1359.000000</td>\n",
       "      <td>6.547994e+05</td>\n",
       "    </tr>\n",
       "    <tr>\n",
       "      <th>75%</th>\n",
       "      <td>43478.500000</td>\n",
       "      <td>362.000000</td>\n",
       "      <td>4.386935e+05</td>\n",
       "      <td>0.000000</td>\n",
       "      <td>1.000000</td>\n",
       "      <td>1.000000</td>\n",
       "      <td>0.000000</td>\n",
       "      <td>0.000000</td>\n",
       "      <td>0.0</td>\n",
       "      <td>0.000000</td>\n",
       "      <td>...</td>\n",
       "      <td>0.000000</td>\n",
       "      <td>0.000000</td>\n",
       "      <td>0.000000</td>\n",
       "      <td>0.000000</td>\n",
       "      <td>0.000000</td>\n",
       "      <td>0.000000</td>\n",
       "      <td>1.000000</td>\n",
       "      <td>1.000000</td>\n",
       "      <td>4583.000000</td>\n",
       "      <td>3.531702e+06</td>\n",
       "    </tr>\n",
       "    <tr>\n",
       "      <th>max</th>\n",
       "      <td>57971.000000</td>\n",
       "      <td>528.000000</td>\n",
       "      <td>3.328509e+06</td>\n",
       "      <td>2.000000</td>\n",
       "      <td>8.000000</td>\n",
       "      <td>6.000000</td>\n",
       "      <td>1.000000</td>\n",
       "      <td>5.000000</td>\n",
       "      <td>0.0</td>\n",
       "      <td>10.000000</td>\n",
       "      <td>...</td>\n",
       "      <td>2.000000</td>\n",
       "      <td>1.000000</td>\n",
       "      <td>1.000000</td>\n",
       "      <td>5.000000</td>\n",
       "      <td>1.000000</td>\n",
       "      <td>9.000000</td>\n",
       "      <td>25.000000</td>\n",
       "      <td>10.000000</td>\n",
       "      <td>333441.000000</td>\n",
       "      <td>2.690550e+07</td>\n",
       "    </tr>\n",
       "  </tbody>\n",
       "</table>\n",
       "<p>8 rows × 32 columns</p>\n",
       "</div>"
      ],
      "text/plain": [
       "             row_id       kddati2       peserta             a             b  \\\n",
       "count  57971.000000  57971.000000  5.797100e+04  57971.000000  57971.000000   \n",
       "mean   28986.000000    246.423125  3.562209e+05      0.041538      0.388574   \n",
       "std    16734.930565    143.447935  4.120323e+05      0.210390      0.660382   \n",
       "min        1.000000      1.000000  8.000000e+00      0.000000      0.000000   \n",
       "25%    14493.500000    125.000000  1.127735e+05      0.000000      0.000000   \n",
       "50%    28986.000000    243.000000  1.975800e+05      0.000000      0.000000   \n",
       "75%    43478.500000    362.000000  4.386935e+05      0.000000      1.000000   \n",
       "max    57971.000000    528.000000  3.328509e+06      2.000000      8.000000   \n",
       "\n",
       "                  c            cb             d       ds            gd  ...  \\\n",
       "count  57971.000000  57971.000000  57971.000000  57971.0  57971.000000  ...   \n",
       "mean       0.788894      0.000380      0.281710      0.0      0.046109  ...   \n",
       "std        0.679786      0.019477      0.595284      0.0      0.327766  ...   \n",
       "min        0.000000      0.000000      0.000000      0.0      0.000000  ...   \n",
       "25%        0.000000      0.000000      0.000000      0.0      0.000000  ...   \n",
       "50%        1.000000      0.000000      0.000000      0.0      0.000000  ...   \n",
       "75%        1.000000      0.000000      0.000000      0.0      0.000000  ...   \n",
       "max        6.000000      1.000000      5.000000      0.0     10.000000  ...   \n",
       "\n",
       "                 kp            kt            ku             s            sa  \\\n",
       "count  57971.000000  57971.000000  57971.000000  57971.000000  57971.000000   \n",
       "mean       0.039899      0.004330      0.001829      0.004123      0.002018   \n",
       "std        0.210092      0.065659      0.042722      0.082443      0.044880   \n",
       "min        0.000000      0.000000      0.000000      0.000000      0.000000   \n",
       "25%        0.000000      0.000000      0.000000      0.000000      0.000000   \n",
       "50%        0.000000      0.000000      0.000000      0.000000      0.000000   \n",
       "75%        0.000000      0.000000      0.000000      0.000000      0.000000   \n",
       "max        2.000000      1.000000      1.000000      5.000000      1.000000   \n",
       "\n",
       "                 sb            sc            sd           case     unit_cost  \n",
       "count  57971.000000  57971.000000  57971.000000   57971.000000  5.797100e+04  \n",
       "mean       0.228476      0.953028      0.644943    6539.418451  1.961092e+06  \n",
       "std        0.925357      2.225974      1.234201   17607.280021  1.889367e+06  \n",
       "min        0.000000      0.000000      0.000000       1.000000  1.000000e+05  \n",
       "25%        0.000000      0.000000      0.000000     424.000000  2.336742e+05  \n",
       "50%        0.000000      0.000000      0.000000    1359.000000  6.547994e+05  \n",
       "75%        0.000000      1.000000      1.000000    4583.000000  3.531702e+06  \n",
       "max        9.000000     25.000000     10.000000  333441.000000  2.690550e+07  \n",
       "\n",
       "[8 rows x 32 columns]"
      ]
     },
     "execution_count": 14,
     "metadata": {},
     "output_type": "execute_result"
    }
   ],
   "source": [
    "casecostprediction[numerical_vars].describe()"
   ]
  },
  {
   "cell_type": "code",
   "execution_count": 15,
   "id": "5d28adb1",
   "metadata": {
    "scrolled": true
   },
   "outputs": [
    {
     "data": {
      "image/png": "[encoded data removed]",
      "text/plain": [
       "<Figure size 1008x720 with 72 Axes>"
      ]
     },
     "metadata": {
      "needs_background": "light"
     },
     "output_type": "display_data"
    }
   ],
   "source": [
    "casecostprediction[numerical_vars].hist(edgecolor='black', bins=15, figsize=(14, 10), layout = (8, 9));"
   ]
  },
  {
   "cell_type": "code",
   "execution_count": null,
   "id": "8919da52",
   "metadata": {},
   "outputs": [],
   "source": []
  }
 ],
 "metadata": {
  "kernelspec": {
   "display_name": "Python 3",
   "language": "python",
   "name": "python3"
  },
  "language_info": {
   "codemirror_mode": {
    "name": "ipython",
    "version": 3
   },
   "file_extension": ".py",
   "mimetype": "text/x-python",
   "name": "python",
   "nbconvert_exporter": "python",
   "pygments_lexer": "ipython3",
   "version": "3.8.8"
  }
 },
 "nbformat": 4,
 "nbformat_minor": 5
}
